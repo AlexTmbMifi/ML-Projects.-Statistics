{
 "cells": [
  {
   "cell_type": "code",
   "execution_count": 1,
   "id": "f6aa3656",
   "metadata": {},
   "outputs": [],
   "source": [
    "import pandas as pd\n",
    "import numpy as np\n",
    "import matplotlib.pyplot as plt\n",
    "import seaborn as sns\n",
    "from scipy.optimize import curve_fit\n",
    "from scipy.stats import norm\n",
    "from scipy.stats import ttest_ind, ttest_rel\n",
    "import statsmodels.api as smi\n",
    "from scipy.special import ndtri\n",
    "from scipy.integrate import quad\n",
    "from scipy.stats import t\n",
    "from scipy import stats\n",
    "from statsmodels.formula.api import ols\n",
    "from sklearn.linear_model import LinearRegression\n",
    "from scipy.stats import chi2_contingency\n",
    "from scipy.stats import fisher_exact"
   ]
  },
  {
   "cell_type": "code",
   "execution_count": 2,
   "id": "fdc1be5c",
   "metadata": {},
   "outputs": [
    {
     "name": "stdout",
     "output_type": "stream",
     "text": [
      "6.7\n"
     ]
    }
   ],
   "source": [
    "# Расстояние Пирсона. Распределение Хи-квадрат\n",
    "O = np.array([20, 40])\n",
    "E = np.array([30,30])\n",
    "\n",
    "xi_2 = np.sum((O - E)**2/E) # расстояние Пирсона\n",
    "print(round(xi_2,1))"
   ]
  },
  {
   "cell_type": "code",
   "execution_count": 3,
   "id": "3cce9650",
   "metadata": {},
   "outputs": [
    {
     "data": {
      "text/plain": [
       "Power_divergenceResult(statistic=np.float64(6.666666666666667), pvalue=np.float64(0.009823274507519235))"
      ]
     },
     "execution_count": 3,
     "metadata": {},
     "output_type": "execute_result"
    }
   ],
   "source": [
    "# расчёт p-уровня значимости для хи-квадрат распределения\n",
    "df = 1 # число степеней свободы\n",
    "stats.chisquare(f_obs=(20,40), f_exp=(30,30))"
   ]
  },
  {
   "cell_type": "code",
   "execution_count": 4,
   "id": "74080c92",
   "metadata": {},
   "outputs": [],
   "source": [
    "# Задача. Проверка нулевой гипотезы о равновероятном выпадении орла или решки\n",
    "experiments = 10000\n",
    "observations = 60\n",
    "E = np.array([30,30])"
   ]
  },
  {
   "cell_type": "code",
   "execution_count": 5,
   "id": "77ad5b25",
   "metadata": {},
   "outputs": [
    {
     "data": {
      "text/plain": [
       "array([[ 6.66666667,  9.33333333],\n",
       "       [ 8.33333333, 11.66666667]])"
      ]
     },
     "execution_count": 5,
     "metadata": {},
     "output_type": "execute_result"
    }
   ],
   "source": [
    "import scipy.stats as sps\n",
    "\n",
    "sps.contingency.expected_freq(([10, 6], [5, 15]))"
   ]
  },
  {
   "cell_type": "code",
   "execution_count": 6,
   "id": "02a1298d",
   "metadata": {},
   "outputs": [],
   "source": [
    "xi_results = []\n",
    "for _ in range(experiments):\n",
    "    all_values = [np.random.randint(0,2) for _ in range(observations)] # выпадение орла или решки\n",
    "    O = np.array([all_values.count(0),all_values.count(1)])\n",
    "    xi_2 = np.sum((O - E)**2/E)\n",
    "    xi_results.append(xi_2)"
   ]
  },
  {
   "cell_type": "code",
   "execution_count": 7,
   "id": "19840836",
   "metadata": {},
   "outputs": [
    {
     "data": {
      "image/png": "[encoded data removed]",
      "text/plain": [
       "<Figure size 800x600 with 1 Axes>"
      ]
     },
     "metadata": {},
     "output_type": "display_data"
    }
   ],
   "source": [
    "# Большиство значений находится вблизи нуля => орёл и решка работает верно.\n",
    "fig, ax = plt.subplots(figsize = (8,6))\n",
    "plt.title('Распределение $\\chi$ квадрат Пирсона')\n",
    "plt.xlabel('$\\chi$')\n",
    "plt.ylabel(f'Frequency')\n",
    "plt.hist(xi_results);"
   ]
  },
  {
   "cell_type": "code",
   "execution_count": 8,
   "id": "d96b6492",
   "metadata": {},
   "outputs": [
    {
     "name": "stdout",
     "output_type": "stream",
     "text": [
      "Расстояние Пирсона =  0.9578688876439141\n"
     ]
    }
   ],
   "source": [
    "# Таблица сопряженности - исследование взаимосвязи между переменными\n",
    "# Ячейки таблицы содержат частоты совместного появления категорий.\n",
    "# ручной расчёт\n",
    "O1 = np.array([[20, 15],[11, 12], [7, 9]])\n",
    "E1 = np.array([[17.97, 17.03],[11.81, 11.19], [8.22, 7.78]]) # ожидаемые значени по формуле f_ij = f_i*f_j/N\n",
    "\n",
    "xi_2 = np.sum((O1 - E1)**2/E1) # расстояние Пирсона\n",
    "print('Расстояние Пирсона = ', xi_2)"
   ]
  },
  {
   "cell_type": "code",
   "execution_count": 9,
   "id": "c74b47db",
   "metadata": {},
   "outputs": [
    {
     "data": {
      "text/plain": [
       "array([[17.97297297, 17.02702703],\n",
       "       [11.81081081, 11.18918919],\n",
       "       [ 8.21621622,  7.78378378]])"
      ]
     },
     "execution_count": 9,
     "metadata": {},
     "output_type": "execute_result"
    }
   ],
   "source": [
    "import scipy.stats as sps\n",
    "\n",
    "# ожидаемые значения можно вычислить также следующим образом\n",
    "sps.contingency.expected_freq([[20, 15],[11, 12], [7, 9]])"
   ]
  },
  {
   "cell_type": "code",
   "execution_count": 18,
   "id": "bbc4d160",
   "metadata": {},
   "outputs": [
    {
     "name": "stdout",
     "output_type": "stream",
     "text": [
      "Расстояние Пирсона =  0.9544070774762996\n",
      "Степень свободы df = 2\n",
      "p-уровень значимости = 0.6205162173513055\n",
      "Вывод: распределение не отличается от ожидаемого\n"
     ]
    }
   ],
   "source": [
    "table = [[20,15],[11,12],[7,9]] \n",
    "\n",
    "\n",
    "chi2, prob, df, expected = chi2_contingency(table) #рассчитываем параметры Хи-квадрат\n",
    "print('Расстояние Пирсона = ', chi2)\n",
    "print('Степень свободы df =', df)\n",
    "print('p-уровень значимости =',prob)\n",
    "print('Вывод: распределение не отличается от ожидаемого')"
   ]
  },
  {
   "cell_type": "code",
   "execution_count": 25,
   "id": "268d23e9",
   "metadata": {},
   "outputs": [
    {
     "name": "stdout",
     "output_type": "stream",
     "text": [
      "P-Value:  0.6649\n"
     ]
    }
   ],
   "source": [
    "# Точный критерий Фишера\n",
    "# особенно полезен при малых выборках\n",
    "# вручную расчитывается с помощью биномиального распределения (схемы Бернулли)\n",
    "\n",
    "odds_ratio, p_value = fisher_exact(table)\n",
    "print(\"P-Value: \", p_value) # значения не являются статистически различимыми"
   ]
  },
  {
   "cell_type": "code",
   "execution_count": null,
   "id": "cc802968",
   "metadata": {},
   "outputs": [],
   "source": [
    "# Логистическая регрессия номинативных данных"
   ]
  }
 ],
 "metadata": {
  "kernelspec": {
   "display_name": "myenv",
   "language": "python",
   "name": "python3"
  },
  "language_info": {
   "codemirror_mode": {
    "name": "ipython",
    "version": 3
   },
   "file_extension": ".py",
   "mimetype": "text/x-python",
   "name": "python",
   "nbconvert_exporter": "python",
   "pygments_lexer": "ipython3",
   "version": "3.11.9"
  }
 },
 "nbformat": 4,
 "nbformat_minor": 5
}
