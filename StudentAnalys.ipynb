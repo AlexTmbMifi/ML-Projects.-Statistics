{
 "cells": [
  {
   "cell_type": "code",
   "execution_count": null,
   "id": "bf4489b2",
   "metadata": {},
   "outputs": [],
   "source": [
    "import pandas as pd\n",
    "import numpy as np\n",
    "import matplotlib.pyplot as plt\n",
    "import seaborn as sns\n",
    "from scipy.optimize import curve_fit\n",
    "from scipy.stats import norm\n",
    "from scipy.stats import ttest_ind, ttest_rel\n",
    "import statsmodels.api as smi\n",
    "from scipy.special import ndtri\n",
    "from scipy.integrate import quad\n",
    "#from scipy.stats import t\n",
    "from scipy import stats\n",
    "from statsmodels.formula.api import ols"
   ]
  },
  {
   "cell_type": "code",
   "execution_count": 25,
   "id": "c44e31b7",
   "metadata": {},
   "outputs": [
    {
     "data": {
      "text/html": [
       "<div>\n",
       "<style scoped>\n",
       "    .dataframe tbody tr th:only-of-type {\n",
       "        vertical-align: middle;\n",
       "    }\n",
       "\n",
       "    .dataframe tbody tr th {\n",
       "        vertical-align: top;\n",
       "    }\n",
       "\n",
       "    .dataframe thead th {\n",
       "        text-align: right;\n",
       "    }\n",
       "</style>\n",
       "<table border=\"1\" class=\"dataframe\">\n",
       "  <thead>\n",
       "    <tr style=\"text-align: right;\">\n",
       "      <th></th>\n",
       "      <th>gender</th>\n",
       "      <th>race/ethnicity</th>\n",
       "      <th>parental level of education</th>\n",
       "      <th>lunch</th>\n",
       "      <th>test preparation course</th>\n",
       "      <th>math score</th>\n",
       "      <th>reading score</th>\n",
       "      <th>writing score</th>\n",
       "    </tr>\n",
       "  </thead>\n",
       "  <tbody>\n",
       "    <tr>\n",
       "      <th>0</th>\n",
       "      <td>female</td>\n",
       "      <td>group B</td>\n",
       "      <td>bachelor's degree</td>\n",
       "      <td>standard</td>\n",
       "      <td>none</td>\n",
       "      <td>72</td>\n",
       "      <td>72</td>\n",
       "      <td>74</td>\n",
       "    </tr>\n",
       "    <tr>\n",
       "      <th>1</th>\n",
       "      <td>female</td>\n",
       "      <td>group C</td>\n",
       "      <td>some college</td>\n",
       "      <td>standard</td>\n",
       "      <td>completed</td>\n",
       "      <td>69</td>\n",
       "      <td>90</td>\n",
       "      <td>88</td>\n",
       "    </tr>\n",
       "    <tr>\n",
       "      <th>2</th>\n",
       "      <td>female</td>\n",
       "      <td>group B</td>\n",
       "      <td>master's degree</td>\n",
       "      <td>standard</td>\n",
       "      <td>none</td>\n",
       "      <td>90</td>\n",
       "      <td>95</td>\n",
       "      <td>93</td>\n",
       "    </tr>\n",
       "    <tr>\n",
       "      <th>3</th>\n",
       "      <td>male</td>\n",
       "      <td>group A</td>\n",
       "      <td>associate's degree</td>\n",
       "      <td>free/reduced</td>\n",
       "      <td>none</td>\n",
       "      <td>47</td>\n",
       "      <td>57</td>\n",
       "      <td>44</td>\n",
       "    </tr>\n",
       "    <tr>\n",
       "      <th>4</th>\n",
       "      <td>male</td>\n",
       "      <td>group C</td>\n",
       "      <td>some college</td>\n",
       "      <td>standard</td>\n",
       "      <td>none</td>\n",
       "      <td>76</td>\n",
       "      <td>78</td>\n",
       "      <td>75</td>\n",
       "    </tr>\n",
       "    <tr>\n",
       "      <th>...</th>\n",
       "      <td>...</td>\n",
       "      <td>...</td>\n",
       "      <td>...</td>\n",
       "      <td>...</td>\n",
       "      <td>...</td>\n",
       "      <td>...</td>\n",
       "      <td>...</td>\n",
       "      <td>...</td>\n",
       "    </tr>\n",
       "    <tr>\n",
       "      <th>995</th>\n",
       "      <td>female</td>\n",
       "      <td>group E</td>\n",
       "      <td>master's degree</td>\n",
       "      <td>standard</td>\n",
       "      <td>completed</td>\n",
       "      <td>88</td>\n",
       "      <td>99</td>\n",
       "      <td>95</td>\n",
       "    </tr>\n",
       "    <tr>\n",
       "      <th>996</th>\n",
       "      <td>male</td>\n",
       "      <td>group C</td>\n",
       "      <td>high school</td>\n",
       "      <td>free/reduced</td>\n",
       "      <td>none</td>\n",
       "      <td>62</td>\n",
       "      <td>55</td>\n",
       "      <td>55</td>\n",
       "    </tr>\n",
       "    <tr>\n",
       "      <th>997</th>\n",
       "      <td>female</td>\n",
       "      <td>group C</td>\n",
       "      <td>high school</td>\n",
       "      <td>free/reduced</td>\n",
       "      <td>completed</td>\n",
       "      <td>59</td>\n",
       "      <td>71</td>\n",
       "      <td>65</td>\n",
       "    </tr>\n",
       "    <tr>\n",
       "      <th>998</th>\n",
       "      <td>female</td>\n",
       "      <td>group D</td>\n",
       "      <td>some college</td>\n",
       "      <td>standard</td>\n",
       "      <td>completed</td>\n",
       "      <td>68</td>\n",
       "      <td>78</td>\n",
       "      <td>77</td>\n",
       "    </tr>\n",
       "    <tr>\n",
       "      <th>999</th>\n",
       "      <td>female</td>\n",
       "      <td>group D</td>\n",
       "      <td>some college</td>\n",
       "      <td>free/reduced</td>\n",
       "      <td>none</td>\n",
       "      <td>77</td>\n",
       "      <td>86</td>\n",
       "      <td>86</td>\n",
       "    </tr>\n",
       "  </tbody>\n",
       "</table>\n",
       "<p>1000 rows × 8 columns</p>\n",
       "</div>"
      ],
      "text/plain": [
       "     gender race/ethnicity parental level of education         lunch  \\\n",
       "0    female        group B           bachelor's degree      standard   \n",
       "1    female        group C                some college      standard   \n",
       "2    female        group B             master's degree      standard   \n",
       "3      male        group A          associate's degree  free/reduced   \n",
       "4      male        group C                some college      standard   \n",
       "..      ...            ...                         ...           ...   \n",
       "995  female        group E             master's degree      standard   \n",
       "996    male        group C                 high school  free/reduced   \n",
       "997  female        group C                 high school  free/reduced   \n",
       "998  female        group D                some college      standard   \n",
       "999  female        group D                some college  free/reduced   \n",
       "\n",
       "    test preparation course  math score  reading score  writing score  \n",
       "0                      none          72             72             74  \n",
       "1                 completed          69             90             88  \n",
       "2                      none          90             95             93  \n",
       "3                      none          47             57             44  \n",
       "4                      none          76             78             75  \n",
       "..                      ...         ...            ...            ...  \n",
       "995               completed          88             99             95  \n",
       "996                    none          62             55             55  \n",
       "997               completed          59             71             65  \n",
       "998               completed          68             78             77  \n",
       "999                    none          77             86             86  \n",
       "\n",
       "[1000 rows x 8 columns]"
      ]
     },
     "execution_count": 25,
     "metadata": {},
     "output_type": "execute_result"
    }
   ],
   "source": [
    "# таблица данных об учениках и проведении теста\n",
    "df = pd.read_csv('StudentsPerformance.csv')\n",
    "df"
   ]
  },
  {
   "cell_type": "code",
   "execution_count": 27,
   "id": "c29e2520",
   "metadata": {},
   "outputs": [
    {
     "data": {
      "text/html": [
       "<div>\n",
       "<style scoped>\n",
       "    .dataframe tbody tr th:only-of-type {\n",
       "        vertical-align: middle;\n",
       "    }\n",
       "\n",
       "    .dataframe tbody tr th {\n",
       "        vertical-align: top;\n",
       "    }\n",
       "\n",
       "    .dataframe thead th {\n",
       "        text-align: right;\n",
       "    }\n",
       "</style>\n",
       "<table border=\"1\" class=\"dataframe\">\n",
       "  <thead>\n",
       "    <tr style=\"text-align: right;\">\n",
       "      <th></th>\n",
       "      <th>gender</th>\n",
       "      <th>race</th>\n",
       "      <th>parental level of education</th>\n",
       "      <th>lunch</th>\n",
       "      <th>test_preparation_course</th>\n",
       "      <th>math_score</th>\n",
       "      <th>reading_score</th>\n",
       "      <th>writing_score</th>\n",
       "    </tr>\n",
       "  </thead>\n",
       "  <tbody>\n",
       "    <tr>\n",
       "      <th>0</th>\n",
       "      <td>female</td>\n",
       "      <td>group B</td>\n",
       "      <td>bachelor's degree</td>\n",
       "      <td>standard</td>\n",
       "      <td>none</td>\n",
       "      <td>72</td>\n",
       "      <td>72</td>\n",
       "      <td>74</td>\n",
       "    </tr>\n",
       "    <tr>\n",
       "      <th>1</th>\n",
       "      <td>female</td>\n",
       "      <td>group C</td>\n",
       "      <td>some college</td>\n",
       "      <td>standard</td>\n",
       "      <td>completed</td>\n",
       "      <td>69</td>\n",
       "      <td>90</td>\n",
       "      <td>88</td>\n",
       "    </tr>\n",
       "    <tr>\n",
       "      <th>2</th>\n",
       "      <td>female</td>\n",
       "      <td>group B</td>\n",
       "      <td>master's degree</td>\n",
       "      <td>standard</td>\n",
       "      <td>none</td>\n",
       "      <td>90</td>\n",
       "      <td>95</td>\n",
       "      <td>93</td>\n",
       "    </tr>\n",
       "    <tr>\n",
       "      <th>3</th>\n",
       "      <td>male</td>\n",
       "      <td>group A</td>\n",
       "      <td>associate's degree</td>\n",
       "      <td>free/reduced</td>\n",
       "      <td>none</td>\n",
       "      <td>47</td>\n",
       "      <td>57</td>\n",
       "      <td>44</td>\n",
       "    </tr>\n",
       "    <tr>\n",
       "      <th>4</th>\n",
       "      <td>male</td>\n",
       "      <td>group C</td>\n",
       "      <td>some college</td>\n",
       "      <td>standard</td>\n",
       "      <td>none</td>\n",
       "      <td>76</td>\n",
       "      <td>78</td>\n",
       "      <td>75</td>\n",
       "    </tr>\n",
       "    <tr>\n",
       "      <th>...</th>\n",
       "      <td>...</td>\n",
       "      <td>...</td>\n",
       "      <td>...</td>\n",
       "      <td>...</td>\n",
       "      <td>...</td>\n",
       "      <td>...</td>\n",
       "      <td>...</td>\n",
       "      <td>...</td>\n",
       "    </tr>\n",
       "    <tr>\n",
       "      <th>995</th>\n",
       "      <td>female</td>\n",
       "      <td>group E</td>\n",
       "      <td>master's degree</td>\n",
       "      <td>standard</td>\n",
       "      <td>completed</td>\n",
       "      <td>88</td>\n",
       "      <td>99</td>\n",
       "      <td>95</td>\n",
       "    </tr>\n",
       "    <tr>\n",
       "      <th>996</th>\n",
       "      <td>male</td>\n",
       "      <td>group C</td>\n",
       "      <td>high school</td>\n",
       "      <td>free/reduced</td>\n",
       "      <td>none</td>\n",
       "      <td>62</td>\n",
       "      <td>55</td>\n",
       "      <td>55</td>\n",
       "    </tr>\n",
       "    <tr>\n",
       "      <th>997</th>\n",
       "      <td>female</td>\n",
       "      <td>group C</td>\n",
       "      <td>high school</td>\n",
       "      <td>free/reduced</td>\n",
       "      <td>completed</td>\n",
       "      <td>59</td>\n",
       "      <td>71</td>\n",
       "      <td>65</td>\n",
       "    </tr>\n",
       "    <tr>\n",
       "      <th>998</th>\n",
       "      <td>female</td>\n",
       "      <td>group D</td>\n",
       "      <td>some college</td>\n",
       "      <td>standard</td>\n",
       "      <td>completed</td>\n",
       "      <td>68</td>\n",
       "      <td>78</td>\n",
       "      <td>77</td>\n",
       "    </tr>\n",
       "    <tr>\n",
       "      <th>999</th>\n",
       "      <td>female</td>\n",
       "      <td>group D</td>\n",
       "      <td>some college</td>\n",
       "      <td>free/reduced</td>\n",
       "      <td>none</td>\n",
       "      <td>77</td>\n",
       "      <td>86</td>\n",
       "      <td>86</td>\n",
       "    </tr>\n",
       "  </tbody>\n",
       "</table>\n",
       "<p>1000 rows × 8 columns</p>\n",
       "</div>"
      ],
      "text/plain": [
       "     gender     race parental level of education         lunch  \\\n",
       "0    female  group B           bachelor's degree      standard   \n",
       "1    female  group C                some college      standard   \n",
       "2    female  group B             master's degree      standard   \n",
       "3      male  group A          associate's degree  free/reduced   \n",
       "4      male  group C                some college      standard   \n",
       "..      ...      ...                         ...           ...   \n",
       "995  female  group E             master's degree      standard   \n",
       "996    male  group C                 high school  free/reduced   \n",
       "997  female  group C                 high school  free/reduced   \n",
       "998  female  group D                some college      standard   \n",
       "999  female  group D                some college  free/reduced   \n",
       "\n",
       "    test_preparation_course  math_score  reading_score  writing_score  \n",
       "0                      none          72             72             74  \n",
       "1                 completed          69             90             88  \n",
       "2                      none          90             95             93  \n",
       "3                      none          47             57             44  \n",
       "4                      none          76             78             75  \n",
       "..                      ...         ...            ...            ...  \n",
       "995               completed          88             99             95  \n",
       "996                    none          62             55             55  \n",
       "997               completed          59             71             65  \n",
       "998               completed          68             78             77  \n",
       "999                    none          77             86             86  \n",
       "\n",
       "[1000 rows x 8 columns]"
      ]
     },
     "execution_count": 27,
     "metadata": {},
     "output_type": "execute_result"
    }
   ],
   "source": [
    "df = df.rename(columns={'test preparation course':'test_preparation_course', 'math score':'math_score', 'reading score': 'reading_score','writing score':'writing_score','race/ethnicity':'race'})\n",
    "df"
   ]
  },
  {
   "cell_type": "code",
   "execution_count": 5,
   "id": "8b6fde3e",
   "metadata": {},
   "outputs": [
    {
     "data": {
      "image/png": "[encoded data removed]",
      "text/plain": [
       "<Figure size 640x480 with 1 Axes>"
      ]
     },
     "metadata": {},
     "output_type": "display_data"
    }
   ],
   "source": [
    "# построение результатов теста по математике\n",
    "# анализ мер тенденции и мер изменчивости\n",
    "fig, axs = plt.subplots()\n",
    "axs.set_title('Math_score')\n",
    "axs.set_xlabel('Scores')\n",
    "axs.set_ylabel('Frequency')\n",
    "axs.axvline(df.math_score.median(), color='yellow', linestyle='dashed', linewidth=1, label = f'mediana = {int(df.math_score.median())}')\n",
    "#axs.axvline(df.math_score.mean(), color='yellow', linestyle='dashed', linewidth=1, label = 'mean')\n",
    "axs.axvline(df.math_score.mode()[0], color='black', linestyle='dashed', linewidth=1, label = f'mode = {df.math_score.mode()[0]}')\n",
    "df.math_score.hist(ax=axs)\n",
    "plt.legend(loc='upper left')\n",
    "plt.text(85, 225, f'$\\sigma = {round(df.math_score.std(),1)}$')\n",
    "plt.text(5, 75, f'$R = {round(df.math_score.max() - df.math_score.min(),1)}$');"
   ]
  },
  {
   "cell_type": "code",
   "execution_count": 6,
   "id": "5195c378",
   "metadata": {},
   "outputs": [
    {
     "data": {
      "image/png": "[encoded data removed]",
      "text/plain": [
       "<Figure size 640x480 with 1 Axes>"
      ]
     },
     "metadata": {},
     "output_type": "display_data"
    }
   ],
   "source": [
    "# доверительный интервал для результатов по математике\n",
    " \n",
    "mean, std  = df.math_score.mean(), df.math_score.std()\n",
    "# создадим пространство из 1000 точек в диапазоне +/- трех СКО от среднего значения\n",
    "x = np.linspace(df.math_score.min(), df.math_score.max(), 1000)\n",
    " \n",
    "# рассчитаем значения по оси y с помощью метода .pdf()\n",
    "# т.е. функции плотности распределения\n",
    "f = norm.pdf(x, mean, std)\n",
    " \n",
    "# и построим график\n",
    "plt.plot(x, f)\n",
    " \n",
    "# дополнительно создадим точки на оси х для закрашенной области\n",
    "px_1 = np.linspace(mean + std, df.math_score.max(), 1000)\n",
    "px_2 = np.linspace(df.math_score.min(), mean - std, 1000)\n",
    " \n",
    "# и заполним в пределах этих точек по оси x пространство\n",
    "# от кривой нормального распределения до оси y = 0\n",
    "plt.fill_between(px_1, norm.pdf(px_1, mean, std), alpha = 0.3)\n",
    "plt.fill_between(px_2, norm.pdf(px_2, mean, std), alpha = 0.3)\n",
    " \n",
    "# выведем оба графика\n",
    "plt.show()"
   ]
  },
  {
   "cell_type": "code",
   "execution_count": 7,
   "id": "7b367875",
   "metadata": {},
   "outputs": [
    {
     "data": {
      "image/png": "[encoded data removed]",
      "text/plain": [
       "<Figure size 640x480 with 1 Axes>"
      ]
     },
     "metadata": {},
     "output_type": "display_data"
    }
   ],
   "source": [
    "# проверка данных на нормальность по гистограмме\n",
    "mu, std = norm.fit(df.math_score.head(999))\n",
    "x = np.linspace(0, 100, 100)\n",
    "p = norm.pdf(x, mu, std) # функция плотности вероятности\n",
    "df.math_score.hist()\n",
    "plt.plot(x, p*10**4, 'k', linewidth=2);\n"
   ]
  },
  {
   "cell_type": "code",
   "execution_count": 8,
   "id": "59ec753f",
   "metadata": {},
   "outputs": [
    {
     "data": {
      "image/png": "[encoded data removed]",
      "text/plain": [
       "<Figure size 640x480 with 1 Axes>"
      ]
     },
     "metadata": {},
     "output_type": "display_data"
    }
   ],
   "source": [
    "# проверка нормальность данных через Q-Q plot\n",
    "smi.qqplot(df.math_score, line=\"r\") \n",
    "plt.show() "
   ]
  },
  {
   "cell_type": "code",
   "execution_count": 9,
   "id": "a27de572",
   "metadata": {},
   "outputs": [
    {
     "data": {
      "image/png": "[encoded data removed]",
      "text/plain": [
       "<Figure size 640x480 with 1 Axes>"
      ]
     },
     "metadata": {},
     "output_type": "display_data"
    }
   ],
   "source": [
    "# построение результатов тестов на boxplot. По величине выбросов можно сказать, какой предмет написали хуже всего\n",
    "df.boxplot(column=['math_score', 'reading_score', 'writing_score']);"
   ]
  },
  {
   "cell_type": "code",
   "execution_count": 10,
   "id": "5cc2a223",
   "metadata": {},
   "outputs": [
    {
     "data": {
      "text/html": [
       "<div>\n",
       "<style scoped>\n",
       "    .dataframe tbody tr th:only-of-type {\n",
       "        vertical-align: middle;\n",
       "    }\n",
       "\n",
       "    .dataframe tbody tr th {\n",
       "        vertical-align: top;\n",
       "    }\n",
       "\n",
       "    .dataframe thead th {\n",
       "        text-align: right;\n",
       "    }\n",
       "</style>\n",
       "<table border=\"1\" class=\"dataframe\">\n",
       "  <thead>\n",
       "    <tr style=\"text-align: right;\">\n",
       "      <th></th>\n",
       "      <th>mean</th>\n",
       "      <th>std</th>\n",
       "    </tr>\n",
       "    <tr>\n",
       "      <th>gender</th>\n",
       "      <th></th>\n",
       "      <th></th>\n",
       "    </tr>\n",
       "  </thead>\n",
       "  <tbody>\n",
       "    <tr>\n",
       "      <th>female</th>\n",
       "      <td>63.633205</td>\n",
       "      <td>15.491453</td>\n",
       "    </tr>\n",
       "    <tr>\n",
       "      <th>male</th>\n",
       "      <td>68.728216</td>\n",
       "      <td>14.356277</td>\n",
       "    </tr>\n",
       "  </tbody>\n",
       "</table>\n",
       "</div>"
      ],
      "text/plain": [
       "             mean        std\n",
       "gender                      \n",
       "female  63.633205  15.491453\n",
       "male    68.728216  14.356277"
      ]
     },
     "execution_count": 10,
     "metadata": {},
     "output_type": "execute_result"
    }
   ],
   "source": [
    "# t - тест Стюдента. Количественная переменная - оценки по математике, номинативная - пол студентов\n",
    "# нулевая гипотеза H_0 - одинаковые средние, нет различий между полом\n",
    "# ограничение метода - нормальность данных и гомогенность дисперсий\n",
    "# существует проблема множественного стравнения t-теста - это можно отдельно показать\n",
    "n = len(df.math_score) # размер выборки\n",
    "df1 = df.groupby('gender').aggregate({'math_score': 'mean'})\n",
    "df1 = df1.rename(columns={'math_score':\"mean\"})\n",
    "df1['std'] = df.groupby('gender').aggregate({'math_score': 'std'})\n",
    "df1"
   ]
  },
  {
   "cell_type": "code",
   "execution_count": 11,
   "id": "0eaaa994",
   "metadata": {},
   "outputs": [
    {
     "name": "stdout",
     "output_type": "stream",
     "text": [
      "-5.383260578852784\n"
     ]
    }
   ],
   "source": [
    "# расчёт t-критерия для сравнения двух средних\n",
    "t = (df1.loc['female']['mean'] - df1.loc['male']['mean'])/np.sqrt(df1.loc['female']['std']**2/482+ df1.loc['male']['std']**2/518)\n",
    "print(t)"
   ]
  },
  {
   "cell_type": "code",
   "execution_count": 12,
   "id": "69e3caba",
   "metadata": {},
   "outputs": [],
   "source": [
    "df_male = df.loc[df.gender =='male'].math_score\n",
    "df_female = df.loc[df.gender =='female'].math_score"
   ]
  },
  {
   "cell_type": "code",
   "execution_count": 13,
   "id": "609bfe54",
   "metadata": {},
   "outputs": [
    {
     "name": "stdout",
     "output_type": "stream",
     "text": [
      "5.383245869828983 9.120185549328822e-08\n"
     ]
    }
   ],
   "source": [
    "# p-уровень значимости оказался < 0.05, отклоняется нулевая гипотеза, получили значимые различия\n",
    "t_statistic, p_value = ttest_ind(df_male, df_female)\n",
    "print(t_statistic, p_value)"
   ]
  },
  {
   "cell_type": "code",
   "execution_count": 14,
   "id": "fbd1964f",
   "metadata": {},
   "outputs": [
    {
     "name": "stdout",
     "output_type": "stream",
     "text": [
      "7.314852348369206e-08\n"
     ]
    }
   ],
   "source": [
    "# p-value можно посчитать вручную, т.к t-распределение по степени свободы df = 998 практически нормальное\n",
    "area = norm.cdf(t, loc=0, scale = 1) # cdf - кумулятивная функция распределения, \n",
    "area1 = norm.cdf(-t, loc=0, scale = 1)\n",
    "p_value_1 = 2*area\n",
    "print(p_value_1) # отличие от p_value из ttest_ind, что там было всё рассчитано для t-функции"
   ]
  },
  {
   "cell_type": "code",
   "execution_count": 15,
   "id": "796c2ce0",
   "metadata": {},
   "outputs": [],
   "source": [
    "# если более точное значение p_value, воспользуемся t распределением из scipy.stats\n",
    "\n",
    "#p_value = 2*t.cdf(-5.383260578852784, 998, loc=0, scale=1)\n",
    "#p_value"
   ]
  },
  {
   "cell_type": "code",
   "execution_count": 16,
   "id": "009b8281",
   "metadata": {},
   "outputs": [],
   "source": [
    "# можно построить t-распределение из библиотеки scipy.stats\n",
    "#distribution = np.linspace(-10, 10, 1000)\n",
    "#plot = plt.plot(distribution, t(998,0).pdf(distribution))"
   ]
  },
  {
   "cell_type": "code",
   "execution_count": 17,
   "id": "e0e88d99",
   "metadata": {},
   "outputs": [
    {
     "name": "stdout",
     "output_type": "stream",
     "text": [
      "0.03849937881025385\n",
      "0.5563091575199801\n"
     ]
    }
   ],
   "source": [
    "# t-тест можно проводить при гомогенности дисперсий\n",
    "# можно проверить с помощью теста Барлетта или Левена\n",
    "# тест Барлетта чувствителен к нормальности\n",
    "stat, p = stats.bartlett(df_male, df_female)\n",
    "print(p)\n",
    "# видно, что t-тест можно использовать, но крайне осторожно. Либо нужно воспользоваться более точным методом\n",
    "levene_stat, p_value = stats.levene(df_male, df_female) # метод Левена является более точным методом\n",
    "print(p_value) # дисперсии одинаковые, можем использовать t-тест"
   ]
  },
  {
   "cell_type": "code",
   "execution_count": 18,
   "id": "4241a1bc",
   "metadata": {},
   "outputs": [
    {
     "name": "stdout",
     "output_type": "stream",
     "text": [
      "28.979336095030884 9.120185549332254e-08\n"
     ]
    }
   ],
   "source": [
    "#Однофакторный дисперсионный анализ - - взаимосвязь нескольких групп (равенство среднего значения)\n",
    "# Более необходимо для проверки > 2 групп\n",
    "f_statistic, p_value = stats.f_oneway(df_male, df_female)\n",
    "print(f_statistic, p_value) # f-статистика значима, следовательно, разные средние. Аналогично говорит и p-value\n",
    "#F-статистика считается через суума квадратов отклонений внутригрупповую(SSW) и межгрупповую(SSB)\n",
    "# SSB >> SSW - значительные различия\n",
    "# SSW >> SSB - различий нет"
   ]
  },
  {
   "cell_type": "code",
   "execution_count": null,
   "id": "96e6e78d",
   "metadata": {},
   "outputs": [
    {
     "name": "stdout",
     "output_type": "stream",
     "text": [
      "10.824191628378626 2.0701893192229333e-05\n"
     ]
    }
   ],
   "source": [
    "# в данном случае мы можем проверить также на взаимосвзять результатов тестов\n",
    "f_statistic, p_value = stats.f_oneway(df.math_score, df.reading_score, df.writing_score) # f-статистика значима, следовательно, разные средние. Аналогично говорит и p-value\n",
    "print(f_statistic, p_value)"
   ]
  },
  {
   "cell_type": "code",
   "execution_count": 33,
   "id": "32c6a810",
   "metadata": {},
   "outputs": [],
   "source": [
    "df_A = df.loc[df.race == 'group A'].math_score\n",
    "df_B = df.loc[df.race == 'group B'].math_score\n",
    "df_C = df.loc[df.race == 'group C'].math_score\n",
    "df_D = df.loc[df.race == 'group D'].math_score\n",
    "df_E = df.loc[df.race == 'group E'].math_score"
   ]
  },
  {
   "cell_type": "code",
   "execution_count": 40,
   "id": "1b52a047",
   "metadata": {},
   "outputs": [
    {
     "name": "stdout",
     "output_type": "stream",
     "text": [
      "1.2865292354788134 0.2769951028770473\n",
      "14.593885166332635 1.3732194030370688e-11\n"
     ]
    }
   ],
   "source": [
    "# люди независимости от этнической принадлежности A,B,C тест по математике написали примерно одинаково\n",
    "f_statistic, p_value = stats.f_oneway(df_A,df_B,df_C)\n",
    "print(f_statistic, p_value)\n",
    "f_statistic, p_value = stats.f_oneway(df_A,df_B,df_C,df_D,df_E) # D и E внесли существенное различие\n",
    "print(f_statistic, p_value)"
   ]
  },
  {
   "cell_type": "code",
   "execution_count": 46,
   "id": "efc9e332",
   "metadata": {},
   "outputs": [
    {
     "data": {
      "text/html": [
       "<div>\n",
       "<style scoped>\n",
       "    .dataframe tbody tr th:only-of-type {\n",
       "        vertical-align: middle;\n",
       "    }\n",
       "\n",
       "    .dataframe tbody tr th {\n",
       "        vertical-align: top;\n",
       "    }\n",
       "\n",
       "    .dataframe thead th {\n",
       "        text-align: right;\n",
       "    }\n",
       "</style>\n",
       "<table border=\"1\" class=\"dataframe\">\n",
       "  <thead>\n",
       "    <tr style=\"text-align: right;\">\n",
       "      <th></th>\n",
       "      <th>df</th>\n",
       "      <th>sum_sq</th>\n",
       "      <th>mean_sq</th>\n",
       "      <th>F</th>\n",
       "      <th>PR(&gt;F)</th>\n",
       "    </tr>\n",
       "  </thead>\n",
       "  <tbody>\n",
       "    <tr>\n",
       "      <th>C(race)</th>\n",
       "      <td>4.0</td>\n",
       "      <td>12728.816698</td>\n",
       "      <td>3182.204175</td>\n",
       "      <td>14.958723</td>\n",
       "      <td>7.080942e-12</td>\n",
       "    </tr>\n",
       "    <tr>\n",
       "      <th>C(gender)</th>\n",
       "      <td>1.0</td>\n",
       "      <td>6241.471075</td>\n",
       "      <td>6241.471075</td>\n",
       "      <td>29.339549</td>\n",
       "      <td>7.626657e-08</td>\n",
       "    </tr>\n",
       "    <tr>\n",
       "      <th>C(race):C(gender)</th>\n",
       "      <td>4.0</td>\n",
       "      <td>113.770679</td>\n",
       "      <td>28.442670</td>\n",
       "      <td>0.133702</td>\n",
       "      <td>9.699848e-01</td>\n",
       "    </tr>\n",
       "    <tr>\n",
       "      <th>Residual</th>\n",
       "      <td>990.0</td>\n",
       "      <td>210605.020548</td>\n",
       "      <td>212.732344</td>\n",
       "      <td>NaN</td>\n",
       "      <td>NaN</td>\n",
       "    </tr>\n",
       "  </tbody>\n",
       "</table>\n",
       "</div>"
      ],
      "text/plain": [
       "                      df         sum_sq      mean_sq          F        PR(>F)\n",
       "C(race)              4.0   12728.816698  3182.204175  14.958723  7.080942e-12\n",
       "C(gender)            1.0    6241.471075  6241.471075  29.339549  7.626657e-08\n",
       "C(race):C(gender)    4.0     113.770679    28.442670   0.133702  9.699848e-01\n",
       "Residual           990.0  210605.020548   212.732344        NaN           NaN"
      ]
     },
     "execution_count": 46,
     "metadata": {},
     "output_type": "execute_result"
    }
   ],
   "source": [
    "# можно осуществлять двухфакторный дисперсионный анализ - по полу и по принадлежности к группе\n",
    "model = ols('math_score ~ C(race) + C(gender) + C(race):C(gender)', data=df).fit() # каждый из факторов слабо по отдельности влияет на результат теста, а вот оба оказывают значительное влияние\n",
    "anova_result = smi.stats.anova_lm(model, type=2)\n",
    "anova_result\n",
    "# необходимо построить графики для anova, чтобы показать роль взаимодействий"
   ]
  }
 ],
 "metadata": {
  "kernelspec": {
   "display_name": "myenv",
   "language": "python",
   "name": "python3"
  },
  "language_info": {
   "codemirror_mode": {
    "name": "ipython",
    "version": 3
   },
   "file_extension": ".py",
   "mimetype": "text/x-python",
   "name": "python",
   "nbconvert_exporter": "python",
   "pygments_lexer": "ipython3",
   "version": "3.11.9"
  }
 },
 "nbformat": 4,
 "nbformat_minor": 5
}
